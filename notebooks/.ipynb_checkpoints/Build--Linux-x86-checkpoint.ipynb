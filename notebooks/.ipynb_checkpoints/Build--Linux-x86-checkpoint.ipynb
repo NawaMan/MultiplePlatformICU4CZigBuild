{
 "cells": [
  {
   "cell_type": "code",
   "execution_count": null,
   "id": "08bbb565-9aa4-413a-8983-7edf7f3ef072",
   "metadata": {},
   "outputs": [],
   "source": [
    "pwd"
   ]
  },
  {
   "cell_type": "code",
   "execution_count": 1,
   "id": "8f767c58-cd97-4f8c-9569-40c3c0fafc3b",
   "metadata": {},
   "outputs": [],
   "source": [
    "cd /workdir/build/icu4c-source/source"
   ]
  },
  {
   "cell_type": "code",
   "execution_count": null,
   "id": "51148be1-d1bb-4e5b-9ee8-58af91de637b",
   "metadata": {},
   "outputs": [],
   "source": [
    "pwd"
   ]
  },
  {
   "cell_type": "code",
   "execution_count": 4,
   "id": "25958091-1b1f-429d-949b-88b379b6df33",
   "metadata": {},
   "outputs": [
    {
     "name": "stdout",
     "output_type": "stream",
     "text": [
      "Doxyfile.in   \u001b[0m\u001b[01;34mcommon\u001b[0m        \u001b[01;32mconfigure\u001b[0m     icudefs.mk.in  \u001b[01;34mpython\u001b[0m           \u001b[01;34mtools\u001b[0m\n",
      "Makefile.in   \u001b[01;34mconfig\u001b[0m        configure.ac  \u001b[01;32minstall-sh\u001b[0m     \u001b[01;32mrunConfigureICU\u001b[0m\n",
      "acinclude.m4  config.guess  \u001b[01;34mdata\u001b[0m          \u001b[01;34mio\u001b[0m             \u001b[01;34msamples\u001b[0m\n",
      "aclocal.m4    config.log    \u001b[01;34mextra\u001b[0m         \u001b[01;34mlayoutex\u001b[0m       \u001b[01;34mstubdata\u001b[0m\n",
      "\u001b[01;34mallinone\u001b[0m      config.sub    \u001b[01;34mi18n\u001b[0m          mkinstalldirs  \u001b[01;34mtest\u001b[0m\n"
     ]
    }
   ],
   "source": [
    "ls /workdir/build/icu4c-source/source"
   ]
  },
  {
   "cell_type": "code",
   "execution_count": null,
   "id": "ed4723b9-38a6-4dfa-b602-b2feb24616af",
   "metadata": {},
   "outputs": [],
   "source": [
    "export CC=\"zig cc\"\n",
    "export CXX=\"zig c++\""
   ]
  },
  {
   "cell_type": "code",
   "execution_count": null,
   "id": "b90ba2f0-cfc1-497e-8dbf-ca6aff88745c",
   "metadata": {},
   "outputs": [],
   "source": [
    "export CC=\"zig cc -target x86_64-windows-gnu\"\n",
    "export CXX=\"zig c++ -target x86_64-windows-gnu\""
   ]
  },
  {
   "cell_type": "code",
   "execution_count": 2,
   "id": "9c5c71b5-2b0c-4651-bd83-ed98e8e3e6ca",
   "metadata": {},
   "outputs": [
    {
     "name": "stdout",
     "output_type": "stream",
     "text": [
      "make: *** No rule to make target 'distclean'.  Stop.\n",
      "make: *** No rule to make target 'clean'.  Stop.\n"
     ]
    },
    {
     "ename": "",
     "evalue": "2",
     "output_type": "error",
     "traceback": []
    }
   ],
   "source": [
    "make distclean || make clean"
   ]
  },
  {
   "cell_type": "code",
   "execution_count": 5,
   "id": "f1b99f88-8336-4880-8aca-8e72c9f63f67",
   "metadata": {},
   "outputs": [
    {
     "name": "stdout",
     "output_type": "stream",
     "text": [
      "/workdir/build/icu4c-source/source\n"
     ]
    }
   ],
   "source": [
    "pwd"
   ]
  },
  {
   "cell_type": "code",
   "execution_count": 9,
   "id": "cef86c2b-bdc9-4561-93a1-6dfd6695dc08",
   "metadata": {
    "scrolled": true
   },
   "outputs": [
    {
     "name": "stdout",
     "output_type": "stream",
     "text": [
      "zig cc -target x86_64-linux-musl --sysroot /opt/zig/lib/libc\n"
     ]
    }
   ],
   "source": [
    "OS=linux\n",
    "ARC=x86\n",
    "\n",
    "LIB_DIR=$(zig env | jq -r '.lib_dir')\n",
    "\n",
    "export SYSROOT=$LIB_DIR/libc\n",
    "export CC=\"zig cc -target x86_64-linux-musl --sysroot $SYSROOT\"\n",
    "export CXX=\"zig c++ -target x86_64-linux-musl --sysroot $SYSROOT\"\n",
    "\n",
    "TARGET=\"/workdir/build/icu4c-target/${OS}_${ARC}\"\n",
    "mkdir -p \"$TARGET\"\n",
    "./configure \\\n",
    "  --prefix=\"$TARGET\" \\\n",
    "  --enable-static \\\n",
    "  --disable-shared \\\n",
    "  --with-data-packaging=static \\\n",
    "  --disable-samples \\\n",
    "  --disable-tests\n",
    "\n",
    "echo"
   ]
  },
  {
   "cell_type": "code",
   "execution_count": null,
   "id": "ccb1dadb-1c37-4492-aa93-85c8b1e61668",
   "metadata": {
    "scrolled": true
   },
   "outputs": [],
   "source": [
    "make -j$(nproc)"
   ]
  },
  {
   "cell_type": "code",
   "execution_count": null,
   "id": "21eb4b78-85b6-4dc4-9757-203605a865a5",
   "metadata": {},
   "outputs": [],
   "source": [
    "make install"
   ]
  },
  {
   "cell_type": "code",
   "execution_count": null,
   "id": "d7ac4c33-0acf-41ff-bf63-cadfec093993",
   "metadata": {},
   "outputs": [],
   "source": [
    "ls -la /workdir/build/icu4c-target"
   ]
  },
  {
   "cell_type": "code",
   "execution_count": null,
   "id": "bd3d0703-28c1-4db3-96fb-f11f1c014929",
   "metadata": {},
   "outputs": [],
   "source": [
    "cd /workdir/build/icu4c-target/lib"
   ]
  },
  {
   "cell_type": "code",
   "execution_count": null,
   "id": "3b442664-0587-4e27-aabd-dffeed760f1a",
   "metadata": {},
   "outputs": [],
   "source": [
    "ls -la"
   ]
  },
  {
   "cell_type": "code",
   "execution_count": null,
   "id": "12e72039-96f8-46fe-88cb-00b9af396031",
   "metadata": {},
   "outputs": [],
   "source": [
    "nm libicudata.a"
   ]
  }
 ],
 "metadata": {
  "kernelspec": {
   "display_name": "Bash",
   "language": "bash",
   "name": "bash"
  },
  "language_info": {
   "codemirror_mode": "shell",
   "file_extension": ".sh",
   "mimetype": "text/x-sh",
   "name": "bash"
  }
 },
 "nbformat": 4,
 "nbformat_minor": 5
}
