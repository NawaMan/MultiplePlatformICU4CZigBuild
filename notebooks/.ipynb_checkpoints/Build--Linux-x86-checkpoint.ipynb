{
 "cells": [
  {
   "cell_type": "code",
   "execution_count": 1,
   "id": "8f767c58-cd97-4f8c-9569-40c3c0fafc3b",
   "metadata": {},
   "outputs": [],
   "source": [
    "cd /workdir/build/icu4c-source/source"
   ]
  },
  {
   "cell_type": "code",
   "execution_count": 2,
   "id": "25958091-1b1f-429d-949b-88b379b6df33",
   "metadata": {},
   "outputs": [
    {
     "name": "stdout",
     "output_type": "stream",
     "text": [
      "Doxyfile.in   \u001b[0m\u001b[01;34mcommon\u001b[0m         configure.ac   \u001b[01;34mio\u001b[0m               \u001b[01;34mstubdata\u001b[0m\n",
      "Makefile      \u001b[01;34mconfig\u001b[0m         \u001b[01;34mdata\u001b[0m           \u001b[01;34mlayoutex\u001b[0m         \u001b[01;34mtest\u001b[0m\n",
      "Makefile.in   config.guess   \u001b[01;34mextra\u001b[0m          \u001b[01;34mlib\u001b[0m              \u001b[01;34mtools\u001b[0m\n",
      "acinclude.m4  config.log     \u001b[01;34mi18n\u001b[0m           mkinstalldirs\n",
      "aclocal.m4    \u001b[01;32mconfig.status\u001b[0m  icudefs.mk     \u001b[01;34mpython\u001b[0m\n",
      "\u001b[01;34mallinone\u001b[0m      config.sub     icudefs.mk.in  \u001b[01;32mrunConfigureICU\u001b[0m\n",
      "\u001b[01;34mbin\u001b[0m           \u001b[01;32mconfigure\u001b[0m      \u001b[01;32minstall-sh\u001b[0m     \u001b[01;34msamples\u001b[0m\n"
     ]
    }
   ],
   "source": [
    "ls /workdir/build/icu4c-source/source"
   ]
  },
  {
   "cell_type": "code",
   "execution_count": 3,
   "id": "9c5c71b5-2b0c-4651-bd83-ed98e8e3e6ca",
   "metadata": {
    "scrolled": true
   },
   "outputs": [
    {
     "name": "stdout",
     "output_type": "stream",
     "text": [
      "make[0]: Making `distclean' in `stubdata'\n",
      "make[1]: Entering directory '/workdir/build/icu4c-source/source/stubdata'\n",
      "test -z \"*~ stubdata.d   \" || rm -rf *~ stubdata.d   \n",
      "rm -rf stubdata.o stubdata.ao libicudata.a \n",
      "rm -rf Makefile\n",
      "make[1]: Leaving directory '/workdir/build/icu4c-source/source/stubdata'\n",
      "make[0]: Making `distclean' in `common'\n",
      "make[1]: Entering directory '/workdir/build/icu4c-source/source/common'\n",
      "test -z \"*~ appendable.d bmpset.d brkeng.d brkiter.d bytesinkutil.d bytestream.d bytestrie.d bytestriebuilder.d bytestrieiterator.d caniter.d characterproperties.d chariter.d charstr.d cmemory.d cstr.d cstring.d cwchar.d dictbe.d dictionarydata.d dtintrv.d edits.d emojiprops.d errorcode.d filteredbrk.d filterednormalizer2.d icudataver.d icuplug.d loadednormalizer2impl.d localebuilder.d localematcher.d localeprioritylist.d locavailable.d locbased.d locdispnames.d locdistance.d locdspnm.d locid.d loclikely.d loclikelysubtags.d locmap.d locresdata.d locutil.d lsr.d lstmbe.d messagepattern.d mlbe.d normalizer2.d normalizer2impl.d normlzr.d parsepos.d patternprops.d pluralmap.d propname.d propsvec.d punycode.d putil.d rbbi.d rbbi_cache.d rbbidata.d rbbinode.d rbbirb.d rbbiscan.d rbbisetb.d rbbistbl.d rbbitblb.d resbund.d resbund_cnv.d resource.d restrace.d ruleiter.d schriter.d serv.d servlk.d servlkf.d servls.d servnotf.d servrbf.d servslkf.d sharedobject.d simpleformatter.d static_unicode_sets.d stringpiece.d stringtriebuilder.d uarrsort.d ubidi.d ubidi_props.d ubidiln.d ubiditransform.d ubidiwrt.d ubrk.d ucase.d ucasemap.d ucasemap_titlecase_brkiter.d ucat.d uchar.d ucharstrie.d ucharstriebuilder.d ucharstrieiterator.d uchriter.d ucln_cmn.d ucmndata.d ucnv.d ucnv2022.d ucnv_bld.d ucnv_cb.d ucnv_cnv.d ucnv_ct.d ucnv_err.d ucnv_ext.d ucnv_io.d ucnv_lmb.d ucnv_set.d ucnv_u16.d ucnv_u32.d ucnv_u7.d ucnv_u8.d ucnvbocu.d ucnvdisp.d ucnvhz.d ucnvisci.d ucnvlat1.d ucnvmbcs.d ucnvscsu.d ucnvsel.d ucol_swp.d ucptrie.d ucurr.d udata.d udatamem.d udataswp.d uenum.d uhash.d uhash_us.d uidna.d uinit.d uinvchar.d uiter.d ulist.d uloc.d uloc_keytype.d uloc_tag.d ulocale.d ulocbuilder.d umapfile.d umath.d umutablecptrie.d umutex.d unames.d unifiedcache.d unifilt.d unifunct.d uniset.d uniset_closure.d uniset_props.d unisetspan.d unistr.d unistr_case.d unistr_case_locale.d unistr_cnv.d unistr_props.d unistr_titlecase_brkiter.d unorm.d unormcmp.d uobject.d uprops.d ures_cnv.d uresbund.d uresdata.d usc_impl.d uscript.d uscript_props.d uset.d uset_props.d usetiter.d ushape.d usprep.d ustack.d ustr_cnv.d ustr_titlecase_brkiter.d ustr_wcs.d ustrcase.d ustrcase_locale.d ustrenum.d ustrfmt.d ustring.d ustrtrns.d utext.d utf_impl.d util.d util_props.d utrace.d utrie.d utrie2.d utrie2_builder.d utrie_swap.d uts46.d utypes.d uvector.d uvectr32.d uvectr64.d wintz.d    ../common/svchook.mk\" || rm -rf *~ appendable.d bmpset.d brkeng.d brkiter.d bytesinkutil.d bytestream.d bytestrie.d bytestriebuilder.d bytestrieiterator.d caniter.d characterproperties.d chariter.d charstr.d cmemory.d cstr.d cstring.d cwchar.d dictbe.d dictionarydata.d dtintrv.d edits.d emojiprops.d errorcode.d filteredbrk.d filterednormalizer2.d icudataver.d icuplug.d loadednormalizer2impl.d localebuilder.d localematcher.d localeprioritylist.d locavailable.d locbased.d locdispnames.d locdistance.d locdspnm.d locid.d loclikely.d loclikelysubtags.d locmap.d locresdata.d locutil.d lsr.d lstmbe.d messagepattern.d mlbe.d normalizer2.d normalizer2impl.d normlzr.d parsepos.d patternprops.d pluralmap.d propname.d propsvec.d punycode.d putil.d rbbi.d rbbi_cache.d rbbidata.d rbbinode.d rbbirb.d rbbiscan.d rbbisetb.d rbbistbl.d rbbitblb.d resbund.d resbund_cnv.d resource.d restrace.d ruleiter.d schriter.d serv.d servlk.d servlkf.d servls.d servnotf.d servrbf.d servslkf.d sharedobject.d simpleformatter.d static_unicode_sets.d stringpiece.d stringtriebuilder.d uarrsort.d ubidi.d ubidi_props.d ubidiln.d ubiditransform.d ubidiwrt.d ubrk.d ucase.d ucasemap.d ucasemap_titlecase_brkiter.d ucat.d uchar.d ucharstrie.d ucharstriebuilder.d ucharstrieiterator.d uchriter.d ucln_cmn.d ucmndata.d ucnv.d ucnv2022.d ucnv_bld.d ucnv_cb.d ucnv_cnv.d ucnv_ct.d ucnv_err.d ucnv_ext.d ucnv_io.d ucnv_lmb.d ucnv_set.d ucnv_u16.d ucnv_u32.d ucnv_u7.d ucnv_u8.d ucnvbocu.d ucnvdisp.d ucnvhz.d ucnvisci.d ucnvlat1.d ucnvmbcs.d ucnvscsu.d ucnvsel.d ucol_swp.d ucptrie.d ucurr.d udata.d udatamem.d udataswp.d uenum.d uhash.d uhash_us.d uidna.d uinit.d uinvchar.d uiter.d ulist.d uloc.d uloc_keytype.d uloc_tag.d ulocale.d ulocbuilder.d umapfile.d umath.d umutablecptrie.d umutex.d unames.d unifiedcache.d unifilt.d unifunct.d uniset.d uniset_closure.d uniset_props.d unisetspan.d unistr.d unistr_case.d unistr_case_locale.d unistr_cnv.d unistr_props.d unistr_titlecase_brkiter.d unorm.d unormcmp.d uobject.d uprops.d ures_cnv.d uresbund.d uresdata.d usc_impl.d uscript.d uscript_props.d uset.d uset_props.d usetiter.d ushape.d usprep.d ustack.d ustr_cnv.d ustr_titlecase_brkiter.d ustr_wcs.d ustrcase.d ustrcase_locale.d ustrenum.d ustrfmt.d ustring.d ustrtrns.d utext.d utf_impl.d util.d util_props.d utrace.d utrie.d utrie2.d utrie2_builder.d utrie_swap.d uts46.d utypes.d uvector.d uvectr32.d uvectr64.d wintz.d    ../common/svchook.mk\n",
      "rm -rf appendable.o bmpset.o brkeng.o brkiter.o bytesinkutil.o bytestream.o bytestrie.o bytestriebuilder.o bytestrieiterator.o caniter.o characterproperties.o chariter.o charstr.o cmemory.o cstr.o cstring.o cwchar.o dictbe.o dictionarydata.o dtintrv.o edits.o emojiprops.o errorcode.o filteredbrk.o filterednormalizer2.o icudataver.o icuplug.o loadednormalizer2impl.o localebuilder.o localematcher.o localeprioritylist.o locavailable.o locbased.o locdispnames.o locdistance.o locdspnm.o locid.o loclikely.o loclikelysubtags.o locmap.o locresdata.o locutil.o lsr.o lstmbe.o messagepattern.o mlbe.o normalizer2.o normalizer2impl.o normlzr.o parsepos.o patternprops.o pluralmap.o propname.o propsvec.o punycode.o putil.o rbbi.o rbbi_cache.o rbbidata.o rbbinode.o rbbirb.o rbbiscan.o rbbisetb.o rbbistbl.o rbbitblb.o resbund.o resbund_cnv.o resource.o restrace.o ruleiter.o schriter.o serv.o servlk.o servlkf.o servls.o servnotf.o servrbf.o servslkf.o sharedobject.o simpleformatter.o static_unicode_sets.o stringpiece.o stringtriebuilder.o uarrsort.o ubidi.o ubidi_props.o ubidiln.o ubiditransform.o ubidiwrt.o ubrk.o ucase.o ucasemap.o ucasemap_titlecase_brkiter.o ucat.o uchar.o ucharstrie.o ucharstriebuilder.o ucharstrieiterator.o uchriter.o ucln_cmn.o ucmndata.o ucnv.o ucnv2022.o ucnv_bld.o ucnv_cb.o ucnv_cnv.o ucnv_ct.o ucnv_err.o ucnv_ext.o ucnv_io.o ucnv_lmb.o ucnv_set.o ucnv_u16.o ucnv_u32.o ucnv_u7.o ucnv_u8.o ucnvbocu.o ucnvdisp.o ucnvhz.o ucnvisci.o ucnvlat1.o ucnvmbcs.o ucnvscsu.o ucnvsel.o ucol_swp.o ucptrie.o ucurr.o udata.o udatamem.o udataswp.o uenum.o uhash.o uhash_us.o uidna.o uinit.o uinvchar.o uiter.o ulist.o uloc.o uloc_keytype.o uloc_tag.o ulocale.o ulocbuilder.o umapfile.o umath.o umutablecptrie.o umutex.o unames.o unifiedcache.o unifilt.o unifunct.o uniset.o uniset_closure.o uniset_props.o unisetspan.o unistr.o unistr_case.o unistr_case_locale.o unistr_cnv.o unistr_props.o unistr_titlecase_brkiter.o unorm.o unormcmp.o uobject.o uprops.o ures_cnv.o uresbund.o uresdata.o usc_impl.o uscript.o uscript_props.o uset.o uset_props.o usetiter.o ushape.o usprep.o ustack.o ustr_cnv.o ustr_titlecase_brkiter.o ustr_wcs.o ustrcase.o ustrcase_locale.o ustrenum.o ustrfmt.o ustring.o ustrtrns.o utext.o utf_impl.o util.o util_props.o utrace.o utrie.o utrie2.o utrie2_builder.o utrie_swap.o uts46.o utypes.o uvector.o uvectr32.o uvectr64.o wintz.o appendable.ao bmpset.ao brkeng.ao brkiter.ao bytesinkutil.ao bytestream.ao bytestrie.ao bytestriebuilder.ao bytestrieiterator.ao caniter.ao characterproperties.ao chariter.ao charstr.ao cmemory.ao cstr.ao cstring.ao cwchar.ao dictbe.ao dictionarydata.ao dtintrv.ao edits.ao emojiprops.ao errorcode.ao filteredbrk.ao filterednormalizer2.ao icudataver.ao icuplug.ao loadednormalizer2impl.ao localebuilder.ao localematcher.ao localeprioritylist.ao locavailable.ao locbased.ao locdispnames.ao locdistance.ao locdspnm.ao locid.ao loclikely.ao loclikelysubtags.ao locmap.ao locresdata.ao locutil.ao lsr.ao lstmbe.ao messagepattern.ao mlbe.ao normalizer2.ao normalizer2impl.ao normlzr.ao parsepos.ao patternprops.ao pluralmap.ao propname.ao propsvec.ao punycode.ao putil.ao rbbi.ao rbbi_cache.ao rbbidata.ao rbbinode.ao rbbirb.ao rbbiscan.ao rbbisetb.ao rbbistbl.ao rbbitblb.ao resbund.ao resbund_cnv.ao resource.ao restrace.ao ruleiter.ao schriter.ao serv.ao servlk.ao servlkf.ao servls.ao servnotf.ao servrbf.ao servslkf.ao sharedobject.ao simpleformatter.ao static_unicode_sets.ao stringpiece.ao stringtriebuilder.ao uarrsort.ao ubidi.ao ubidi_props.ao ubidiln.ao ubiditransform.ao ubidiwrt.ao ubrk.ao ucase.ao ucasemap.ao ucasemap_titlecase_brkiter.ao ucat.ao uchar.ao ucharstrie.ao ucharstriebuilder.ao ucharstrieiterator.ao uchriter.ao ucln_cmn.ao ucmndata.ao ucnv.ao ucnv2022.ao ucnv_bld.ao ucnv_cb.ao ucnv_cnv.ao ucnv_ct.ao ucnv_err.ao ucnv_ext.ao ucnv_io.ao ucnv_lmb.ao ucnv_set.ao ucnv_u16.ao ucnv_u32.ao ucnv_u7.ao ucnv_u8.ao ucnvbocu.ao ucnvdisp.ao ucnvhz.ao ucnvisci.ao ucnvlat1.ao ucnvmbcs.ao ucnvscsu.ao ucnvsel.ao ucol_swp.ao ucptrie.ao ucurr.ao udata.ao udatamem.ao udataswp.ao uenum.ao uhash.ao uhash_us.ao uidna.ao uinit.ao uinvchar.ao uiter.ao ulist.ao uloc.ao uloc_keytype.ao uloc_tag.ao ulocale.ao ulocbuilder.ao umapfile.ao umath.ao umutablecptrie.ao umutex.ao unames.ao unifiedcache.ao unifilt.ao unifunct.ao uniset.ao uniset_closure.ao uniset_props.ao unisetspan.ao unistr.ao unistr_case.ao unistr_case_locale.ao unistr_cnv.ao unistr_props.ao unistr_titlecase_brkiter.ao unorm.ao unormcmp.ao uobject.ao uprops.ao ures_cnv.ao uresbund.ao uresdata.ao usc_impl.ao uscript.ao uscript_props.ao uset.ao uset_props.ao usetiter.ao ushape.ao usprep.ao ustack.ao ustr_cnv.ao ustr_titlecase_brkiter.ao ustr_wcs.ao ustrcase.ao ustrcase_locale.ao ustrenum.ao ustrfmt.ao ustring.ao ustrtrns.ao utext.ao utf_impl.ao util.ao util_props.ao utrace.ao utrie.ao utrie2.ao utrie2_builder.ao utrie_swap.ao uts46.ao utypes.ao uvector.ao uvectr32.ao uvectr64.ao wintz.ao ../lib/libicuuc.a   \n",
      "rm -rf Makefile icucfg.h ../common/svchook.mk\n",
      "make[1]: Leaving directory '/workdir/build/icu4c-source/source/common'\n",
      "make[0]: Making `distclean' in `i18n'\n",
      "make[1]: Entering directory '/workdir/build/icu4c-source/source/i18n'\n",
      "test -z \"*~ alphaindex.d anytrans.d astro.d basictz.d bocsu.d brktrans.d buddhcal.d calendar.d casetrn.d cecal.d chnsecal.d choicfmt.d coleitr.d coll.d collation.d collationbuilder.d collationcompare.d collationdata.d collationdatabuilder.d collationdatareader.d collationdatawriter.d collationfastlatin.d collationfastlatinbuilder.d collationfcd.d collationiterator.d collationkeys.d collationroot.d collationrootelements.d collationruleparser.d collationsets.d collationsettings.d collationtailoring.d collationweights.d compactdecimalformat.d coptccal.d cpdtrans.d csdetect.d csmatch.d csr2022.d csrecog.d csrmbcs.d csrsbcs.d csrucode.d csrutf8.d curramt.d currfmt.d currpinf.d currunit.d dangical.d datefmt.d dayperiodrules.d dcfmtsym.d decContext.d decNumber.d decimfmt.d displayoptions.d double-conversion-bignum-dtoa.d double-conversion-bignum.d double-conversion-cached-powers.d double-conversion-double-to-string.d double-conversion-fast-dtoa.d double-conversion-string-to-double.d double-conversion-strtod.d dtfmtsym.d dtitvfmt.d dtitvinf.d dtptngen.d dtrule.d erarules.d esctrn.d ethpccal.d fmtable.d fmtable_cnv.d format.d formatted_string_builder.d formattedval_iterimpl.d formattedval_sbimpl.d formattedvalue.d fphdlimp.d fpositer.d funcrepl.d gender.d gregocal.d gregoimp.d hebrwcal.d indiancal.d inputext.d islamcal.d iso8601cal.d japancal.d listformatter.d measfmt.d measunit.d measunit_extra.d measure.d msgfmt.d messageformat2.d messageformat2_arguments.d messageformat2_checker.d messageformat2_data_model.d messageformat2_errors.d messageformat2_evaluation.d messageformat2_formatter.d messageformat2_formattable.d messageformat2_function_registry.d messageformat2_parser.d messageformat2_serializer.d name2uni.d nfrs.d nfrule.d nfsubs.d nortrans.d nultrans.d number_affixutils.d number_asformat.d number_capi.d number_compact.d number_currencysymbols.d number_decimalquantity.d number_decimfmtprops.d number_fluent.d number_formatimpl.d number_grouping.d number_integerwidth.d number_longnames.d number_mapper.d number_modifiers.d number_multiplier.d number_notation.d number_output.d number_padding.d number_patternmodifier.d number_patternstring.d number_rounding.d number_scientific.d number_simple.d number_skeletons.d number_symbolswrapper.d number_usageprefs.d number_utils.d numfmt.d numparse_affixes.d numparse_compositions.d numparse_currency.d numparse_decimal.d numparse_impl.d numparse_parsednumber.d numparse_scientific.d numparse_symbols.d numparse_validators.d numrange_capi.d numrange_fluent.d numrange_impl.d numsys.d olsontz.d persncal.d pluralranges.d plurfmt.d plurrule.d quant.d quantityformatter.d rbnf.d rbt.d rbt_data.d rbt_pars.d rbt_rule.d rbt_set.d rbtz.d regexcmp.d regeximp.d regexst.d regextxt.d region.d reldatefmt.d reldtfmt.d rematch.d remtrans.d repattrn.d rulebasedcollator.d scientificnumberformatter.d scriptset.d search.d selfmt.d sharedbreakiterator.d simpletz.d smpdtfmt.d smpdtfst.d sortkey.d standardplural.d string_segment.d strmatch.d strrepl.d stsearch.d taiwncal.d timezone.d titletrn.d tmunit.d tmutamt.d tmutfmt.d tolowtrn.d toupptrn.d translit.d transreg.d tridpars.d tzfmt.d tzgnames.d tznames.d tznames_impl.d tzrule.d tztrans.d ucal.d ucln_in.d ucol.d ucol_res.d ucol_sit.d ucoleitr.d ucsdet.d udat.d udateintervalformat.d udatpg.d ufieldpositer.d uitercollationiterator.d ulistformatter.d ulocdata.d umsg.d unesctrn.d uni2name.d units_data.d units_complexconverter.d units_converter.d units_router.d unum.d unumsys.d upluralrules.d uregex.d uregexc.d uregion.d usearch.d uspoof.d uspoof_build.d uspoof_conf.d uspoof_impl.d utf16collationiterator.d utf8collationiterator.d utmscale.d utrans.d vtzone.d vzone.d windtfmt.d winnmfmt.d wintzimpl.d zonemeta.d zrule.d ztrans.d   \" || rm -rf *~ alphaindex.d anytrans.d astro.d basictz.d bocsu.d brktrans.d buddhcal.d calendar.d casetrn.d cecal.d chnsecal.d choicfmt.d coleitr.d coll.d collation.d collationbuilder.d collationcompare.d collationdata.d collationdatabuilder.d collationdatareader.d collationdatawriter.d collationfastlatin.d collationfastlatinbuilder.d collationfcd.d collationiterator.d collationkeys.d collationroot.d collationrootelements.d collationruleparser.d collationsets.d collationsettings.d collationtailoring.d collationweights.d compactdecimalformat.d coptccal.d cpdtrans.d csdetect.d csmatch.d csr2022.d csrecog.d csrmbcs.d csrsbcs.d csrucode.d csrutf8.d curramt.d currfmt.d currpinf.d currunit.d dangical.d datefmt.d dayperiodrules.d dcfmtsym.d decContext.d decNumber.d decimfmt.d displayoptions.d double-conversion-bignum-dtoa.d double-conversion-bignum.d double-conversion-cached-powers.d double-conversion-double-to-string.d double-conversion-fast-dtoa.d double-conversion-string-to-double.d double-conversion-strtod.d dtfmtsym.d dtitvfmt.d dtitvinf.d dtptngen.d dtrule.d erarules.d esctrn.d ethpccal.d fmtable.d fmtable_cnv.d format.d formatted_string_builder.d formattedval_iterimpl.d formattedval_sbimpl.d formattedvalue.d fphdlimp.d fpositer.d funcrepl.d gender.d gregocal.d gregoimp.d hebrwcal.d indiancal.d inputext.d islamcal.d iso8601cal.d japancal.d listformatter.d measfmt.d measunit.d measunit_extra.d measure.d msgfmt.d messageformat2.d messageformat2_arguments.d messageformat2_checker.d messageformat2_data_model.d messageformat2_errors.d messageformat2_evaluation.d messageformat2_formatter.d messageformat2_formattable.d messageformat2_function_registry.d messageformat2_parser.d messageformat2_serializer.d name2uni.d nfrs.d nfrule.d nfsubs.d nortrans.d nultrans.d number_affixutils.d number_asformat.d number_capi.d number_compact.d number_currencysymbols.d number_decimalquantity.d number_decimfmtprops.d number_fluent.d number_formatimpl.d number_grouping.d number_integerwidth.d number_longnames.d number_mapper.d number_modifiers.d number_multiplier.d number_notation.d number_output.d number_padding.d number_patternmodifier.d number_patternstring.d number_rounding.d number_scientific.d number_simple.d number_skeletons.d number_symbolswrapper.d number_usageprefs.d number_utils.d numfmt.d numparse_affixes.d numparse_compositions.d numparse_currency.d numparse_decimal.d numparse_impl.d numparse_parsednumber.d numparse_scientific.d numparse_symbols.d numparse_validators.d numrange_capi.d numrange_fluent.d numrange_impl.d numsys.d olsontz.d persncal.d pluralranges.d plurfmt.d plurrule.d quant.d quantityformatter.d rbnf.d rbt.d rbt_data.d rbt_pars.d rbt_rule.d rbt_set.d rbtz.d regexcmp.d regeximp.d regexst.d regextxt.d region.d reldatefmt.d reldtfmt.d rematch.d remtrans.d repattrn.d rulebasedcollator.d scientificnumberformatter.d scriptset.d search.d selfmt.d sharedbreakiterator.d simpletz.d smpdtfmt.d smpdtfst.d sortkey.d standardplural.d string_segment.d strmatch.d strrepl.d stsearch.d taiwncal.d timezone.d titletrn.d tmunit.d tmutamt.d tmutfmt.d tolowtrn.d toupptrn.d translit.d transreg.d tridpars.d tzfmt.d tzgnames.d tznames.d tznames_impl.d tzrule.d tztrans.d ucal.d ucln_in.d ucol.d ucol_res.d ucol_sit.d ucoleitr.d ucsdet.d udat.d udateintervalformat.d udatpg.d ufieldpositer.d uitercollationiterator.d ulistformatter.d ulocdata.d umsg.d unesctrn.d uni2name.d units_data.d units_complexconverter.d units_converter.d units_router.d unum.d unumsys.d upluralrules.d uregex.d uregexc.d uregion.d usearch.d uspoof.d uspoof_build.d uspoof_conf.d uspoof_impl.d utf16collationiterator.d utf8collationiterator.d utmscale.d utrans.d vtzone.d vzone.d windtfmt.d winnmfmt.d wintzimpl.d zonemeta.d zrule.d ztrans.d   \n",
      "rm -rf alphaindex.o anytrans.o astro.o basictz.o bocsu.o brktrans.o buddhcal.o calendar.o casetrn.o cecal.o chnsecal.o choicfmt.o coleitr.o coll.o collation.o collationbuilder.o collationcompare.o collationdata.o collationdatabuilder.o collationdatareader.o collationdatawriter.o collationfastlatin.o collationfastlatinbuilder.o collationfcd.o collationiterator.o collationkeys.o collationroot.o collationrootelements.o collationruleparser.o collationsets.o collationsettings.o collationtailoring.o collationweights.o compactdecimalformat.o coptccal.o cpdtrans.o csdetect.o csmatch.o csr2022.o csrecog.o csrmbcs.o csrsbcs.o csrucode.o csrutf8.o curramt.o currfmt.o currpinf.o currunit.o dangical.o datefmt.o dayperiodrules.o dcfmtsym.o decContext.o decNumber.o decimfmt.o displayoptions.o double-conversion-bignum-dtoa.o double-conversion-bignum.o double-conversion-cached-powers.o double-conversion-double-to-string.o double-conversion-fast-dtoa.o double-conversion-string-to-double.o double-conversion-strtod.o dtfmtsym.o dtitvfmt.o dtitvinf.o dtptngen.o dtrule.o erarules.o esctrn.o ethpccal.o fmtable.o fmtable_cnv.o format.o formatted_string_builder.o formattedval_iterimpl.o formattedval_sbimpl.o formattedvalue.o fphdlimp.o fpositer.o funcrepl.o gender.o gregocal.o gregoimp.o hebrwcal.o indiancal.o inputext.o islamcal.o iso8601cal.o japancal.o listformatter.o measfmt.o measunit.o measunit_extra.o measure.o msgfmt.o messageformat2.o messageformat2_arguments.o messageformat2_checker.o messageformat2_data_model.o messageformat2_errors.o messageformat2_evaluation.o messageformat2_formatter.o messageformat2_formattable.o messageformat2_function_registry.o messageformat2_parser.o messageformat2_serializer.o name2uni.o nfrs.o nfrule.o nfsubs.o nortrans.o nultrans.o number_affixutils.o number_asformat.o number_capi.o number_compact.o number_currencysymbols.o number_decimalquantity.o number_decimfmtprops.o number_fluent.o number_formatimpl.o number_grouping.o number_integerwidth.o number_longnames.o number_mapper.o number_modifiers.o number_multiplier.o number_notation.o number_output.o number_padding.o number_patternmodifier.o number_patternstring.o number_rounding.o number_scientific.o number_simple.o number_skeletons.o number_symbolswrapper.o number_usageprefs.o number_utils.o numfmt.o numparse_affixes.o numparse_compositions.o numparse_currency.o numparse_decimal.o numparse_impl.o numparse_parsednumber.o numparse_scientific.o numparse_symbols.o numparse_validators.o numrange_capi.o numrange_fluent.o numrange_impl.o numsys.o olsontz.o persncal.o pluralranges.o plurfmt.o plurrule.o quant.o quantityformatter.o rbnf.o rbt.o rbt_data.o rbt_pars.o rbt_rule.o rbt_set.o rbtz.o regexcmp.o regeximp.o regexst.o regextxt.o region.o reldatefmt.o reldtfmt.o rematch.o remtrans.o repattrn.o rulebasedcollator.o scientificnumberformatter.o scriptset.o search.o selfmt.o sharedbreakiterator.o simpletz.o smpdtfmt.o smpdtfst.o sortkey.o standardplural.o string_segment.o strmatch.o strrepl.o stsearch.o taiwncal.o timezone.o titletrn.o tmunit.o tmutamt.o tmutfmt.o tolowtrn.o toupptrn.o translit.o transreg.o tridpars.o tzfmt.o tzgnames.o tznames.o tznames_impl.o tzrule.o tztrans.o ucal.o ucln_in.o ucol.o ucol_res.o ucol_sit.o ucoleitr.o ucsdet.o udat.o udateintervalformat.o udatpg.o ufieldpositer.o uitercollationiterator.o ulistformatter.o ulocdata.o umsg.o unesctrn.o uni2name.o units_data.o units_complexconverter.o units_converter.o units_router.o unum.o unumsys.o upluralrules.o uregex.o uregexc.o uregion.o usearch.o uspoof.o uspoof_build.o uspoof_conf.o uspoof_impl.o utf16collationiterator.o utf8collationiterator.o utmscale.o utrans.o vtzone.o vzone.o windtfmt.o winnmfmt.o wintzimpl.o zonemeta.o zrule.o ztrans.o alphaindex.ao anytrans.ao astro.ao basictz.ao bocsu.ao brktrans.ao buddhcal.ao calendar.ao casetrn.ao cecal.ao chnsecal.ao choicfmt.ao coleitr.ao coll.ao collation.ao collationbuilder.ao collationcompare.ao collationdata.ao collationdatabuilder.ao collationdatareader.ao collationdatawriter.ao collationfastlatin.ao collationfastlatinbuilder.ao collationfcd.ao collationiterator.ao collationkeys.ao collationroot.ao collationrootelements.ao collationruleparser.ao collationsets.ao collationsettings.ao collationtailoring.ao collationweights.ao compactdecimalformat.ao coptccal.ao cpdtrans.ao csdetect.ao csmatch.ao csr2022.ao csrecog.ao csrmbcs.ao csrsbcs.ao csrucode.ao csrutf8.ao curramt.ao currfmt.ao currpinf.ao currunit.ao dangical.ao datefmt.ao dayperiodrules.ao dcfmtsym.ao decContext.ao decNumber.ao decimfmt.ao displayoptions.ao double-conversion-bignum-dtoa.ao double-conversion-bignum.ao double-conversion-cached-powers.ao double-conversion-double-to-string.ao double-conversion-fast-dtoa.ao double-conversion-string-to-double.ao double-conversion-strtod.ao dtfmtsym.ao dtitvfmt.ao dtitvinf.ao dtptngen.ao dtrule.ao erarules.ao esctrn.ao ethpccal.ao fmtable.ao fmtable_cnv.ao format.ao formatted_string_builder.ao formattedval_iterimpl.ao formattedval_sbimpl.ao formattedvalue.ao fphdlimp.ao fpositer.ao funcrepl.ao gender.ao gregocal.ao gregoimp.ao hebrwcal.ao indiancal.ao inputext.ao islamcal.ao iso8601cal.ao japancal.ao listformatter.ao measfmt.ao measunit.ao measunit_extra.ao measure.ao msgfmt.ao messageformat2.ao messageformat2_arguments.ao messageformat2_checker.ao messageformat2_data_model.ao messageformat2_errors.ao messageformat2_evaluation.ao messageformat2_formatter.ao messageformat2_formattable.ao messageformat2_function_registry.ao messageformat2_parser.ao messageformat2_serializer.ao name2uni.ao nfrs.ao nfrule.ao nfsubs.ao nortrans.ao nultrans.ao number_affixutils.ao number_asformat.ao number_capi.ao number_compact.ao number_currencysymbols.ao number_decimalquantity.ao number_decimfmtprops.ao number_fluent.ao number_formatimpl.ao number_grouping.ao number_integerwidth.ao number_longnames.ao number_mapper.ao number_modifiers.ao number_multiplier.ao number_notation.ao number_output.ao number_padding.ao number_patternmodifier.ao number_patternstring.ao number_rounding.ao number_scientific.ao number_simple.ao number_skeletons.ao number_symbolswrapper.ao number_usageprefs.ao number_utils.ao numfmt.ao numparse_affixes.ao numparse_compositions.ao numparse_currency.ao numparse_decimal.ao numparse_impl.ao numparse_parsednumber.ao numparse_scientific.ao numparse_symbols.ao numparse_validators.ao numrange_capi.ao numrange_fluent.ao numrange_impl.ao numsys.ao olsontz.ao persncal.ao pluralranges.ao plurfmt.ao plurrule.ao quant.ao quantityformatter.ao rbnf.ao rbt.ao rbt_data.ao rbt_pars.ao rbt_rule.ao rbt_set.ao rbtz.ao regexcmp.ao regeximp.ao regexst.ao regextxt.ao region.ao reldatefmt.ao reldtfmt.ao rematch.ao remtrans.ao repattrn.ao rulebasedcollator.ao scientificnumberformatter.ao scriptset.ao search.ao selfmt.ao sharedbreakiterator.ao simpletz.ao smpdtfmt.ao smpdtfst.ao sortkey.ao standardplural.ao string_segment.ao strmatch.ao strrepl.ao stsearch.ao taiwncal.ao timezone.ao titletrn.ao tmunit.ao tmutamt.ao tmutfmt.ao tolowtrn.ao toupptrn.ao translit.ao transreg.ao tridpars.ao tzfmt.ao tzgnames.ao tznames.ao tznames_impl.ao tzrule.ao tztrans.ao ucal.ao ucln_in.ao ucol.ao ucol_res.ao ucol_sit.ao ucoleitr.ao ucsdet.ao udat.ao udateintervalformat.ao udatpg.ao ufieldpositer.ao uitercollationiterator.ao ulistformatter.ao ulocdata.ao umsg.ao unesctrn.ao uni2name.ao units_data.ao units_complexconverter.ao units_converter.ao units_router.ao unum.ao unumsys.ao upluralrules.ao uregex.ao uregexc.ao uregion.ao usearch.ao uspoof.ao uspoof_build.ao uspoof_conf.ao uspoof_impl.ao utf16collationiterator.ao utf8collationiterator.ao utmscale.ao utrans.ao vtzone.ao vzone.ao windtfmt.ao winnmfmt.ao wintzimpl.ao zonemeta.ao zrule.ao ztrans.ao ../lib/libicui18n.a   \n",
      "rm -rf Makefile\n",
      "make[1]: Leaving directory '/workdir/build/icu4c-source/source/i18n'\n",
      "make[0]: Making `distclean' in `io'\n",
      "make[1]: Entering directory '/workdir/build/icu4c-source/source/io'\n",
      "test -z \"*~ locbund.d sprintf.d sscanf.d ucln_io.d ufile.d ufmt_cmn.d uprintf.d uprntf_p.d uscanf.d uscanf_p.d ustdio.d ustream.d   \" || rm -rf *~ locbund.d sprintf.d sscanf.d ucln_io.d ufile.d ufmt_cmn.d uprintf.d uprntf_p.d uscanf.d uscanf_p.d ustdio.d ustream.d   \n",
      "rm -rf locbund.o sprintf.o sscanf.o ucln_io.o ufile.o ufmt_cmn.o uprintf.o uprntf_p.o uscanf.o uscanf_p.o ustdio.o ustream.o locbund.ao sprintf.ao sscanf.ao ucln_io.ao ufile.ao ufmt_cmn.ao uprintf.ao uprntf_p.ao uscanf.ao uscanf_p.ao ustdio.ao ustream.ao ../lib/libicuio.a   \n",
      "rm -rf Makefile\n",
      "make[1]: Leaving directory '/workdir/build/icu4c-source/source/io'\n",
      "make[0]: Making `distclean' in `tools'\n",
      "make[1]: Entering directory '/workdir/build/icu4c-source/source/tools'\n",
      "make[1]: Making `distclean' in `toolutil'\n",
      "make[2]: Entering directory '/workdir/build/icu4c-source/source/tools/toolutil'\n",
      "test -z \"*~ collationinfo.d dbgutil.d denseranges.d filestrm.d filetools.d flagparser.d package.d pkg_genc.d pkg_gencmn.d pkg_icu.d pkgitems.d ppucd.d swapimpl.d toolutil.d ucbuf.d ucln_tu.d ucm.d ucmstate.d udbgutil.d unewdata.d uoptions.d uparse.d writesrc.d xmlparser.d   \" || rm -rf *~ collationinfo.d dbgutil.d denseranges.d filestrm.d filetools.d flagparser.d package.d pkg_genc.d pkg_gencmn.d pkg_icu.d pkgitems.d ppucd.d swapimpl.d toolutil.d ucbuf.d ucln_tu.d ucm.d ucmstate.d udbgutil.d unewdata.d uoptions.d uparse.d writesrc.d xmlparser.d   \n",
      "rm -rf collationinfo.o dbgutil.o denseranges.o filestrm.o filetools.o flagparser.o package.o pkg_genc.o pkg_gencmn.o pkg_icu.o pkgitems.o ppucd.o swapimpl.o toolutil.o ucbuf.o ucln_tu.o ucm.o ucmstate.o udbgutil.o unewdata.o uoptions.o uparse.o writesrc.o xmlparser.o collationinfo.ao dbgutil.ao denseranges.ao filestrm.ao filetools.ao flagparser.ao package.ao pkg_genc.ao pkg_gencmn.ao pkg_icu.ao pkgitems.ao ppucd.ao swapimpl.ao toolutil.ao ucbuf.ao ucln_tu.ao ucm.ao ucmstate.ao udbgutil.ao unewdata.ao uoptions.ao uparse.ao writesrc.ao xmlparser.ao ../../lib/libicutu.a \n",
      "rm -rf Makefile\n",
      "make[2]: Leaving directory '/workdir/build/icu4c-source/source/tools/toolutil'\n",
      "make[1]: Making `distclean' in `ctestfw'\n",
      "make[2]: Entering directory '/workdir/build/icu4c-source/source/tools/ctestfw'\n",
      "test -z \"*~ ctest.d datamap.d testdata.d tstdtmod.d ucln_ct.d uperf.d   \" || rm -rf *~ ctest.d datamap.d testdata.d tstdtmod.d ucln_ct.d uperf.d   \n",
      "rm -rf ctest.o datamap.o testdata.o tstdtmod.o ucln_ct.o uperf.o ctest.ao datamap.ao testdata.ao tstdtmod.ao ucln_ct.ao uperf.ao libicutest.a \n",
      "rm -rf Makefile\n",
      "make[2]: Leaving directory '/workdir/build/icu4c-source/source/tools/ctestfw'\n",
      "make[1]: Making `distclean' in `makeconv'\n",
      "make[2]: Entering directory '/workdir/build/icu4c-source/source/tools/makeconv'\n",
      "test -z \"*~ gencnvex.d genmbcs.d makeconv.d ucnvstat.d makeconv.1\" || rm -rf *~ gencnvex.d genmbcs.d makeconv.d ucnvstat.d makeconv.1\n",
      "rm -rf ../../bin/makeconv gencnvex.o genmbcs.o makeconv.o ucnvstat.o\n",
      "rm -rf Makefile\n",
      "make[2]: Leaving directory '/workdir/build/icu4c-source/source/tools/makeconv'\n",
      "make[1]: Making `distclean' in `genrb'\n",
      "make[2]: Entering directory '/workdir/build/icu4c-source/source/tools/genrb'\n",
      "test -z \"*~ genrb.1 derb.1 errmsg.d filterrb.d genrb.d parse.d prscmnts.d rbutil.d read.d reslist.d rle.d ustr.d wrtjava.d wrtxml.d derb.d\" || rm -rf *~ genrb.1 derb.1 errmsg.d filterrb.d genrb.d parse.d prscmnts.d rbutil.d read.d reslist.d rle.d ustr.d wrtjava.d wrtxml.d derb.d\n",
      "rm -rf ../../bin/genrb ../../bin/derb errmsg.o filterrb.o genrb.o parse.o prscmnts.o rbutil.o read.o reslist.o rle.o ustr.o wrtjava.o wrtxml.o derb.o\n",
      "rm -rf Makefile\n",
      "make[2]: Leaving directory '/workdir/build/icu4c-source/source/tools/genrb'\n",
      "make[1]: Making `distclean' in `genbrk'\n",
      "make[2]: Entering directory '/workdir/build/icu4c-source/source/tools/genbrk'\n",
      "test -z \"*~ genbrk.d genbrk.1\" || rm -rf *~ genbrk.d genbrk.1\n",
      "rm -rf ../../bin/genbrk genbrk.o\n",
      "rm -rf Makefile\n",
      "make[2]: Leaving directory '/workdir/build/icu4c-source/source/tools/genbrk'\n",
      "make[1]: Making `distclean' in `gencnval'\n",
      "make[2]: Entering directory '/workdir/build/icu4c-source/source/tools/gencnval'\n",
      "test -z \"*~ gencnval.d gencnval.1\" || rm -rf *~ gencnval.d gencnval.1\n",
      "rm -rf ../../bin/gencnval gencnval.o\n",
      "rm -rf Makefile\n",
      "make[2]: Leaving directory '/workdir/build/icu4c-source/source/tools/gencnval'\n",
      "make[1]: Making `distclean' in `gensprep'\n",
      "make[2]: Entering directory '/workdir/build/icu4c-source/source/tools/gensprep'\n",
      "test -z \"*~ gensprep.d store.d gensprep.8\" || rm -rf *~ gensprep.d store.d gensprep.8\n",
      "rm -rf ../../bin/gensprep gensprep.o store.o\n",
      "rm -rf Makefile\n",
      "make[2]: Leaving directory '/workdir/build/icu4c-source/source/tools/gensprep'\n",
      "make[1]: Making `distclean' in `icuinfo'\n",
      "make[2]: Entering directory '/workdir/build/icu4c-source/source/tools/icuinfo'\n",
      "test -z \"*~ icuinfo.d  /workdir/build/icu4c-source/source/tools/icuinfo/icuplugins77.txt libplugin.so\" || rm -rf *~ icuinfo.d  /workdir/build/icu4c-source/source/tools/icuinfo/icuplugins77.txt libplugin.so\n",
      "rm -rf icuinfo icuinfo.o\n",
      "rm -rf Makefile\n",
      "make[2]: Leaving directory '/workdir/build/icu4c-source/source/tools/icuinfo'\n",
      "make[1]: Making `distclean' in `genccode'\n",
      "make[2]: Entering directory '/workdir/build/icu4c-source/source/tools/genccode'\n",
      "test -z \"*~ genccode.d genccode.8\" || rm -rf *~ genccode.d genccode.8\n",
      "rm -rf ../../bin/genccode genccode.o\n",
      "rm -rf Makefile\n",
      "make[2]: Leaving directory '/workdir/build/icu4c-source/source/tools/genccode'\n",
      "make[1]: Making `distclean' in `gencmn'\n",
      "make[2]: Entering directory '/workdir/build/icu4c-source/source/tools/gencmn'\n",
      "test -z \"*~ gencmn.d gencmn.8\" || rm -rf *~ gencmn.d gencmn.8\n",
      "rm -rf ../../bin/gencmn gencmn.o\n",
      "rm -rf Makefile\n",
      "make[2]: Leaving directory '/workdir/build/icu4c-source/source/tools/gencmn'\n",
      "make[1]: Making `distclean' in `icupkg'\n",
      "make[2]: Entering directory '/workdir/build/icu4c-source/source/tools/icupkg'\n",
      "test -z \"*~ icupkg.d icupkg.8\" || rm -rf *~ icupkg.d icupkg.8\n",
      "rm -rf ../../bin/icupkg icupkg.o\n",
      "rm -rf Makefile\n",
      "make[2]: Leaving directory '/workdir/build/icu4c-source/source/tools/icupkg'\n",
      "make[1]: Making `distclean' in `pkgdata'\n",
      "make[2]: Entering directory '/workdir/build/icu4c-source/source/tools/pkgdata'\n",
      "test -z \"*~ pkgdata.d pkgtypes.d pkgdata.1\" || rm -rf *~ pkgdata.d pkgtypes.d pkgdata.1\n",
      "rm -rf ../../bin/pkgdata pkgdata.o pkgtypes.o\n",
      "rm -rf Makefile\n",
      "make[2]: Leaving directory '/workdir/build/icu4c-source/source/tools/pkgdata'\n",
      "make[1]: Making `distclean' in `gentest'\n",
      "make[2]: Entering directory '/workdir/build/icu4c-source/source/tools/gentest'\n",
      "test -z \"*~ genres32.d gentest.d\" || rm -rf *~ genres32.d gentest.d\n",
      "rm -rf gentest genres32.o gentest.o\n",
      "rm -rf Makefile\n",
      "make[2]: Leaving directory '/workdir/build/icu4c-source/source/tools/gentest'\n",
      "make[1]: Making `distclean' in `gennorm2'\n",
      "make[2]: Entering directory '/workdir/build/icu4c-source/source/tools/gennorm2'\n",
      "test -z \"*~ extradata.d gennorm2.d n2builder.d norms.d\" || rm -rf *~ extradata.d gennorm2.d n2builder.d norms.d\n",
      "rm -rf ../../bin/gennorm2 extradata.o gennorm2.o n2builder.o norms.o\n",
      "rm -rf Makefile\n",
      "make[2]: Leaving directory '/workdir/build/icu4c-source/source/tools/gennorm2'\n",
      "make[1]: Making `distclean' in `gencfu'\n",
      "make[2]: Entering directory '/workdir/build/icu4c-source/source/tools/gencfu'\n",
      "test -z \"*~ gencfu.d gencfu.1\" || rm -rf *~ gencfu.d gencfu.1\n",
      "rm -rf ../../bin/gencfu gencfu.o\n",
      "rm -rf Makefile\n",
      "make[2]: Leaving directory '/workdir/build/icu4c-source/source/tools/gencfu'\n",
      "make[1]: Making `distclean' in `gendict'\n",
      "make[2]: Entering directory '/workdir/build/icu4c-source/source/tools/gendict'\n",
      "test -z \"*~ gendict.d gendict.1\" || rm -rf *~ gendict.d gendict.1\n",
      "rm -rf ../../bin/gendict gendict.o\n",
      "rm -rf Makefile\n",
      "make[2]: Leaving directory '/workdir/build/icu4c-source/source/tools/gendict'\n",
      "make[1]: Making `distclean' in `icuexportdata'\n",
      "make[2]: Entering directory '/workdir/build/icu4c-source/source/tools/icuexportdata'\n",
      "test -z \"*~ icuexportdata.d icuexportdata.1\" || rm -rf *~ icuexportdata.d icuexportdata.1\n",
      "rm -rf ../../bin/icuexportdata icuexportdata.o\n",
      "rm -rf Makefile\n",
      "make[2]: Leaving directory '/workdir/build/icu4c-source/source/tools/icuexportdata'\n",
      "make[1]: Making `distclean' in `escapesrc'\n",
      "make[2]: Entering directory '/workdir/build/icu4c-source/source/tools/escapesrc'\n",
      "test -z \"*~ escapesrc.d  ./output-*.cpp\" || rm -rf *~ escapesrc.d  ./output-*.cpp\n",
      "rm -rf ../../bin/escapesrc escapesrc.o\n",
      "rm -rf Makefile\n",
      "make[2]: Leaving directory '/workdir/build/icu4c-source/source/tools/escapesrc'\n",
      "make[2]: Entering directory '/workdir/build/icu4c-source/source/tools'\n",
      "test -z \"*~\" || rm -rf *~\n",
      "rm -rf Makefile\n",
      "make[2]: Leaving directory '/workdir/build/icu4c-source/source/tools'\n",
      "make[1]: Leaving directory '/workdir/build/icu4c-source/source/tools'\n",
      "make[0]: Making `distclean' in `data'\n",
      "make[1]: Entering directory '/workdir/build/icu4c-source/source/data'\n",
      "rm -rf ./out\n",
      "rm -rf ../lib/*libicudata*.so* ../lib/libicudata.a\n",
      "test -z \"*~ icupkg.inc *.x\" || rm -rf *~ icupkg.inc *.x\n",
      "test -z *.map || rm -rf *.map\n",
      "rm -rf ./out build-local packagedata uni-core-data\n",
      "rm -rf Makefile\n",
      "make[1]: Leaving directory '/workdir/build/icu4c-source/source/data'\n",
      "make[0]: Making `distclean' in `extra'\n",
      "make[1]: Entering directory '/workdir/build/icu4c-source/source/extra'\n",
      "make[1]: Making `distclean' in `scrptrun'\n",
      "make[2]: Entering directory '/workdir/build/icu4c-source/source/extra/scrptrun'\n",
      "test -z \"*~ scrptrun.d srtest.d\" || rm -rf *~ scrptrun.d srtest.d\n",
      "rm -rf scrptrun.o srtest.o srtest\n",
      "rm -rf Makefile\n",
      "make[2]: Leaving directory '/workdir/build/icu4c-source/source/extra/scrptrun'\n",
      "make[1]: Making `distclean' in `uconv'\n",
      "make[2]: Entering directory '/workdir/build/icu4c-source/source/extra/uconv'\n",
      "rm -rf pkgdata.inc uconvmsg\n",
      "test -z \"*~ uconv.d uwmsg.d uconv.1\" || rm -rf *~ uconv.d uwmsg.d uconv.1 uconvmsg/root.res uconvmsg/fr.res\n",
      "rm -rf uconv.o uwmsg.o ../../bin/uconv\n",
      "rm -rf Makefile uconv.d uwmsg.d\n",
      "make[2]: Leaving directory '/workdir/build/icu4c-source/source/extra/uconv'\n",
      "make[2]: Entering directory '/workdir/build/icu4c-source/source/extra'\n",
      "test -z \"*~\" || rm -rf *~\n",
      "rm -rf Makefile\n",
      "make[2]: Leaving directory '/workdir/build/icu4c-source/source/extra'\n",
      "test -z \"*~\" || rm -rf *~\n",
      "rm -rf Makefile\n",
      "make[1]: Leaving directory '/workdir/build/icu4c-source/source/extra'\n",
      "make[1]: Entering directory '/workdir/build/icu4c-source/source'\n",
      "test -z \"*~\" || rm -rf *~\n",
      "rm -rf \"test-*.xml\"\n",
      "rm -rf \"perf-*.xml\"\n",
      "rm -rf ./config/icu-uc.pc ./config/icu-i18n.pc ./config/icu-io.pc ./config/icuinfo.xml\n",
      "rm -rf Doxyfile doc icu-docs.zip\n",
      "rm -rf ./config/Makefile.inc ./config/pkgdata.inc ./config/icu-config ./config/icu.pc ./config/icu-uc.pc ./config/icu-i18n.pc ./config/icu-io.pc\n",
      "rm -rf config.cache config.log config.status ./config/icucross.mk ./config/icucross.inc autom4te.cache uconfig.h.prepend\n",
      "rm -rf Makefile config/Makefile icudefs.mk ./lib ./bin\n",
      "rm -rf dist\n",
      "make[1]: Leaving directory '/workdir/build/icu4c-source/source'\n"
     ]
    }
   ],
   "source": [
    "make distclean || make clean\n",
    "rm -Rf /workdir/build/icu4c-target/linux-x86"
   ]
  },
  {
   "cell_type": "code",
   "execution_count": 12,
   "id": "263f3e7e-3d68-4d31-b497-c97de7bc015c",
   "metadata": {},
   "outputs": [
    {
     "name": "stdout",
     "output_type": "stream",
     "text": [
      "total 8\n",
      "drwxr-xr-x 2 ubuntu ubuntu 4096 Aug  8 14:09 \u001b[0m\u001b[01;34m.\u001b[0m\n",
      "drwxr-xr-x 4 ubuntu ubuntu 4096 Aug  7 06:52 \u001b[01;34m..\u001b[0m\n"
     ]
    }
   ],
   "source": [
    "ls -la /workdir/build/icu4c-target/"
   ]
  },
  {
   "cell_type": "code",
   "execution_count": null,
   "id": "cef86c2b-bdc9-4561-93a1-6dfd6695dc08",
   "metadata": {
    "scrolled": true
   },
   "outputs": [],
   "source": [
    "OS=linux\n",
    "ARC=x86\n",
    "\n",
    "BUILD_DIR=/workdir/build\n",
    "TARGET_DIR=$BUILD_DIR/icu4c-target\n",
    "LIB_DIR=$(zig env | jq -r '.lib_dir')\n",
    "\n",
    "export SYSROOT=$LIB_DIR/libc\n",
    "export CC=\"zig cc -target x86_64-linux-musl --sysroot $SYSROOT\"\n",
    "export CXX=\"zig c++ -target x86_64-linux-musl --sysroot $SYSROOT\"\n",
    "\n",
    "TARGET=\"$TARGET_DIR/${OS}-${ARC}\"\n",
    "mkdir -p \"$TARGET\"\n",
    "./configure \\\n",
    "  --prefix=\"$TARGET\" \\\n",
    "  --enable-static \\\n",
    "  --disable-shared \\\n",
    "  --with-data-packaging=static \\\n",
    "  --disable-samples \\\n",
    "  --disable-tests\n",
    "\n",
    "echo\n",
    "make -j$(nproc)\n",
    "make install"
   ]
  },
  {
   "cell_type": "code",
   "execution_count": null,
   "id": "d7ac4c33-0acf-41ff-bf63-cadfec093993",
   "metadata": {},
   "outputs": [],
   "source": [
    "ls -la /workdir/build/icu4c-target/linux-x86"
   ]
  },
  {
   "cell_type": "code",
   "execution_count": null,
   "id": "bd3d0703-28c1-4db3-96fb-f11f1c014929",
   "metadata": {},
   "outputs": [],
   "source": [
    "cd /workdir/build/icu4c-target/linux-x86/lib"
   ]
  },
  {
   "cell_type": "code",
   "execution_count": null,
   "id": "3b442664-0587-4e27-aabd-dffeed760f1a",
   "metadata": {},
   "outputs": [],
   "source": [
    "ls -la"
   ]
  },
  {
   "cell_type": "code",
   "execution_count": null,
   "id": "12e72039-96f8-46fe-88cb-00b9af396031",
   "metadata": {},
   "outputs": [],
   "source": [
    "nm libicudata.a"
   ]
  }
 ],
 "metadata": {
  "kernelspec": {
   "display_name": "Bash",
   "language": "bash",
   "name": "bash"
  },
  "language_info": {
   "codemirror_mode": "shell",
   "file_extension": ".sh",
   "mimetype": "text/x-sh",
   "name": "bash"
  }
 },
 "nbformat": 4,
 "nbformat_minor": 5
}
